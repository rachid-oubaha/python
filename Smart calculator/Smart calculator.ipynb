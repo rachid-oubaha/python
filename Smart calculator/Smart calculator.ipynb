{
 "cells": [
  {
   "cell_type": "code",
   "execution_count": 13,
   "metadata": {},
   "outputs": [],
   "source": [
    "def get_numbers(text):\n",
    "    numbers = []\n",
    "    for word in text.split(' '):\n",
    "        if word.isdigit():\n",
    "            numbers.append(int(word))\n",
    "    return (numbers[0],numbers[1])"
   ]
  },
  {
   "cell_type": "code",
   "execution_count": 14,
   "metadata": {},
   "outputs": [],
   "source": [
    "def add(a,b):\n",
    "    return a + b\n",
    "def sub(a,b):\n",
    "    return a - b\n",
    "def mul(a,b):\n",
    "    return a * b\n",
    "def div(a,b):\n",
    "    return a / b\n",
    "def mod(a,b):\n",
    "    return a % b"
   ]
  },
  {
   "cell_type": "code",
   "execution_count": 15,
   "metadata": {},
   "outputs": [],
   "source": [
    "operations={'ADD':add,'PLUS':add,'SUM':add,'ADDITION':add,'+':add,\n",
    "            'SUB':sub,'SUBTRACT':sub, 'MINUS':sub,'-':sub,\n",
    "            'PRODUCT':mul, 'MULTIPLY':mul,'MULTIPLICATION':mul,'*':mul,\n",
    "            'DIVISION':div,'/':div,\n",
    "            'MOD':mod,'REMANDER':mod,'MODULAS':mod,'%':mod\n",
    "           }"
   ]
  },
  {
   "cell_type": "code",
   "execution_count": 26,
   "metadata": {},
   "outputs": [
    {
     "name": "stdout",
     "output_type": "stream",
     "text": [
      "Welcome to smart calculator\n",
      "------------------------------------\n",
      "Enter your queries:  15 + 10\n",
      "25\n",
      "Press Q to Quitno\n",
      "------------------------------------\n",
      "Enter your queries:  sub 20 and 10\n",
      "10\n",
      "Press Q to Quitno\n",
      "------------------------------------\n",
      "Enter your queries:  mod 9 and 3 \n",
      "0\n",
      "Press Q to Quitno \n",
      "------------------------------------\n",
      "Enter your queries:  8 / 7\n",
      "1.1428571428571428\n",
      "Press Q to Quitno \n",
      "------------------------------------\n",
      "Enter your queries:  9 * 9\n",
      "81\n",
      "Press Q to Quitq\n"
     ]
    }
   ],
   "source": [
    "print('Welcome to smart calculator')\n",
    "while True:\n",
    "    print('------------------------------------')\n",
    "    text=input('Enter your queries:  ')\n",
    "    \n",
    "    function = None\n",
    "    for word in text.split(' '):\n",
    "        if word.upper() in operations.keys():\n",
    "            \n",
    "            try:\n",
    "                result = operations[word.upper()](*get_numbers(text))\n",
    "                print(result)\n",
    "            except:\n",
    "                print('something went wrong going plz enter again !!')\n",
    "            finally:\n",
    "                break\n",
    "    Quit = input('Press Q to Quit')\n",
    "    if Quit.upper() == \"Q\":\n",
    "        break\n",
    "            \n",
    "        "
   ]
  },
  {
   "cell_type": "code",
   "execution_count": null,
   "metadata": {},
   "outputs": [],
   "source": []
  }
 ],
 "metadata": {
  "kernelspec": {
   "display_name": "Python 3",
   "language": "python",
   "name": "python3"
  },
  "language_info": {
   "codemirror_mode": {
    "name": "ipython",
    "version": 3
   },
   "file_extension": ".py",
   "mimetype": "text/x-python",
   "name": "python",
   "nbconvert_exporter": "python",
   "pygments_lexer": "ipython3",
   "version": "3.7.3"
  }
 },
 "nbformat": 4,
 "nbformat_minor": 2
}
